{
 "cells": [
  {
   "cell_type": "code",
   "execution_count": 33,
   "metadata": {},
   "outputs": [
    {
     "name": "stdout",
     "output_type": "stream",
     "text": [
      "--------print_int----------\n",
      "1\n",
      "--------print_string----------\n",
      "we're going to do something\n",
      "we're going to do something\n",
      "we are going to do something\n",
      "The quick brown fox jumps over the lazy dog\n",
      "--------string+string----------\n",
      "applecar\n",
      "apple4\n",
      "--------int+int----------\n",
      "3\n",
      "3\n",
      "1+2\n",
      "--------float+int----------\n",
      "3.2\n"
     ]
    },
    {
     "name": "stdin",
     "output_type": "stream",
     "text": [
      " alive\n",
      "please enter your name:  near N\n"
     ]
    },
    {
     "name": "stdout",
     "output_type": "stream",
     "text": [
      "hello near N\n",
      "line1\n",
      "line2\n",
      "line3\n",
      "line4\n"
     ]
    }
   ],
   "source": [
    "#print一个数字\n",
    "print(\"--------print_int----------\")\n",
    "print(1)#括号很重要\n",
    "\n",
    "#print string (\"\"或者'' 都行，但是注意句子中有引号的要注意)\n",
    "print(\"--------print_string----------\")\n",
    "print(\"we're going to do something\")                   #句子中缩写可以用双引号来含括\n",
    "print('we\\'re going to do something')                  #句子中用/'来区别string的''（转义字符）\n",
    "print('we are going to do something')\n",
    "print('The quick brown fox', 'jumps over', 'the lazy dog')\n",
    "\n",
    "#string+string：okkkk  同类型可以相加 \n",
    "print(\"--------string+string----------\")   \n",
    "print('apple'+'car')\n",
    "print('apple'+str(4))              #转化同类型可以用str()\n",
    "\n",
    "\n",
    "#int+int\n",
    "print(\"--------int+int----------\")\n",
    "print(1+2)\n",
    "print(int('1')+2)                   #转换同类型用int()\n",
    "print('1+2')\n",
    "\n",
    "print(\"--------float+int----------\")\n",
    "print(float('1.2')+2)\n",
    "\n",
    "\n",
    "#输入\n",
    "name = input()\n",
    "name\n",
    "name=input(\"please enter your name: \")\n",
    "print(\"hello\",name)\n",
    "\n",
    "print('''line1\n",
    "line2\n",
    "line3\n",
    "line4''')"
   ]
  },
  {
   "cell_type": "code",
   "execution_count": 28,
   "metadata": {},
   "outputs": [
    {
     "name": "stdout",
     "output_type": "stream",
     "text": [
      "--------数学----------\n",
      "--------加法----------\n",
      "2\n",
      "--------减法----------\n",
      "0\n",
      "--------乘法----------\n",
      "4\n",
      "--------平方----------\n",
      "9\n",
      "--------取余数----------\n",
      "0\n",
      "2\n",
      "---------取整-=---------\n",
      "2\n"
     ]
    }
   ],
   "source": [
    "#+-*/% (取整)//\n",
    "print(\"--------数学----------\")\n",
    "print(\"--------加法----------\")\n",
    "print(1+1)\n",
    "print(\"--------减法----------\")\n",
    "print(1-1)\n",
    "print(\"--------乘法----------\")\n",
    "print(2*2)\n",
    "print(\"--------平方----------\")\n",
    "print(3**2)                            #2的平方\n",
    "print(\"--------取余数----------\")\n",
    "print(8%2)\n",
    "print(8%3)\n",
    "print(\"---------取整-=---------\")\n",
    "print(9//4)"
   ]
  },
  {
   "cell_type": "code",
   "execution_count": 34,
   "metadata": {},
   "outputs": [
    {
     "name": "stdout",
     "output_type": "stream",
     "text": [
      "13\n",
      "-----多个自变量---------\n",
      "1 2 3\n",
      "1 2\n",
      "123\n",
      "456.789\n",
      "Hello, world\n",
      "Hello, 'Adam'\n",
      "Hello, \"Bart\"\n",
      "Hello,\n",
      "Lisa!\n"
     ]
    }
   ],
   "source": [
    "#自变量variable\n",
    "apple_egg=10+3\n",
    "print(apple_egg)\n",
    "\n",
    "#多个变量自定义\n",
    "print(\"-----多个自变量---------\")\n",
    "a,b,c=1,2,3\n",
    "print(a,b,c)\n",
    "\n",
    "a=1\n",
    "b=a*2\n",
    "print(a,b)\n",
    "\n",
    "#练习\n",
    "# -*- coding: utf-8 -*-\n",
    "n = 123\n",
    "f = 456.789\n",
    "s1 = 'Hello, world'\n",
    "s2 = 'Hello, \\'Adam\\''\n",
    "s3 = r'Hello, \"Bart\"'\n",
    "s4 = r'''Hello,\n",
    "Lisa!'''\n",
    "\n",
    "print(n)\n",
    "print(f)\n",
    "print(s1)\n",
    "print(s2)\n",
    "print(s3)\n",
    "print(s4)"
   ]
  },
  {
   "cell_type": "code",
   "execution_count": 38,
   "metadata": {},
   "outputs": [
    {
     "name": "stdout",
     "output_type": "stream",
     "text": [
      "1\n",
      "2\n",
      "3\n",
      "4\n",
      "5\n",
      "6\n",
      "7\n",
      "8\n",
      "9\n"
     ]
    }
   ],
   "source": [
    "#while\n",
    "condition=1\n",
    "while condition<10:\n",
    "    print(condition)\n",
    "    condition+=1\n",
    "\n"
   ]
  },
  {
   "cell_type": "code",
   "execution_count": 3,
   "metadata": {},
   "outputs": [
    {
     "name": "stdout",
     "output_type": "stream",
     "text": [
      "-----list------\n",
      "1\n",
      "2\n",
      "3\n",
      "45\n",
      "689\n",
      "789\n",
      "45\n",
      "6\n",
      "9\n",
      "-----range-------\n",
      "1\n",
      "3\n",
      "5\n",
      "7\n",
      "9\n",
      "0\n",
      "1\n",
      "2\n",
      "3\n",
      "4\n"
     ]
    }
   ],
   "source": [
    "#for迭代器\n",
    "\n",
    "#list\n",
    "print(\"-----list------\")\n",
    "example_list=[1,2,3,45,689,789,45,6,9]\n",
    "\n",
    "for i in example_list:                 #注意这里的样式修改，如果一堆语句的前面我们想修改其tab的空格\n",
    "    print(i)                           #使用我们的control+[  or  control+]\n",
    "    \n",
    "#range迭代器\n",
    "print(\"-----range-------\")\n",
    "for i in range(1,10,2):                  #range是一个左闭右开的区间，range(start,stop[,step])\n",
    "    print(i)\n",
    "#\n",
    "for i in range(5):\n",
    "    print(i)"
   ]
  },
  {
   "cell_type": "code",
   "execution_count": 8,
   "metadata": {},
   "outputs": [],
   "source": [
    "import turtle\n",
    "t=turtle.Pen()\n",
    "for x in range(360):\n",
    "    t.forward(x)\n",
    "    t.left(59)"
   ]
  },
  {
   "cell_type": "code",
   "execution_count": 24,
   "metadata": {},
   "outputs": [
    {
     "name": "stdout",
     "output_type": "stream",
     "text": [
      "x is less than y\n",
      "x is less than y and y is less than z\n",
      "x<-1\n",
      "done\n"
     ]
    },
    {
     "name": "stdin",
     "output_type": "stream",
     "text": [
      "birth:  1986\n"
     ]
    },
    {
     "name": "stdout",
     "output_type": "stream",
     "text": [
      "00前\n",
      "严重肥胖\n"
     ]
    }
   ],
   "source": [
    "#if\n",
    "x=1\n",
    "y=2\n",
    "z=3\n",
    "if x<y:\n",
    "    print('x is less than y')\n",
    "if x<y<z:                                            #可以进行连续的数值大小对比！！\n",
    "    print('x is less than y and y is less than z')\n",
    "    \n",
    "x=-2\n",
    "y=2\n",
    "z=3\n",
    "if x>1:\n",
    "    print('x>1')\n",
    "elif x<-1:\n",
    "    print('x<-1')\n",
    "elif x<1:\n",
    "    print('x<1')\n",
    "else:\n",
    "    print('x=1')\n",
    "    \n",
    "    \n",
    "#类似三目操作\n",
    "worked = True\n",
    "result = 'done' if worked else 'not yet'\n",
    "print(result)\n",
    "\n",
    "\n",
    "#input()\n",
    "s = input('birth: ')\n",
    "birth = int(s)\n",
    "if birth < 2000:\n",
    "    print('00前')\n",
    "else:\n",
    "    print('00后')\n",
    "    \n",
    "\"\"\"\n",
    "练习\n",
    "小明身高1.75，体重80.5kg。请根据BMI公式（体重除以身高的平方）帮小明计算他的BMI指数，并根据BMI指数：\n",
    "\n",
    "低于18.5：过轻\n",
    "18.5-25：正常\n",
    "25-28：过重\n",
    "28-32：肥胖\n",
    "高于32：严重肥胖\n",
    "\"\"\"\n",
    "\n",
    "height=1.75\n",
    "weight=80.5\n",
    "BMI=weight/height\n",
    "if BMI<18.5:\n",
    "    print(\"过轻\")\n",
    "elif BMI>18.5 and BMI<25:\n",
    "    print(\"正常\")\n",
    "elif BMI>25 and BMI<28:\n",
    "    print(\"过重\")\n",
    "elif BMI>28 and BMI<32:\n",
    "    print(\"肥胖\")\n",
    "else:\n",
    "    print(\"严重肥胖\")"
   ]
  },
  {
   "cell_type": "code",
   "execution_count": 85,
   "metadata": {},
   "outputs": [
    {
     "name": "stdout",
     "output_type": "stream",
     "text": [
      "The area of a circle with radius 2.5 is 19.62\n"
     ]
    },
    {
     "data": {
      "text/plain": [
       "b'\\xd6\\xd0\\xce\\xc4'"
      ]
     },
     "execution_count": 85,
     "metadata": {},
     "output_type": "execute_result"
    }
   ],
   "source": [
    "#格式化\n",
    "'Age: %s. Gender: %s' % (25, True)\n",
    "\n",
    "'growth rate: %d %%' % 7\n",
    "\n",
    "r=2.5\n",
    "s=3.14 * r ** 2\n",
    "print(f'The area of a circle with radius {r} is {s:.2f}')\n",
    "\n",
    "'中文'.encode('GB2312')\n"
   ]
  },
  {
   "cell_type": "code",
   "execution_count": 46,
   "metadata": {},
   "outputs": [
    {
     "name": "stdout",
     "output_type": "stream",
     "text": [
      "成绩提升了0.2%\n",
      "Hello,Bart!\n",
      "Hello,Lisa!\n",
      "Hello,Adam!\n",
      "hello,Bart!\n",
      "hello,Lisa!\n",
      "hello,Adam!\n"
     ]
    }
   ],
   "source": [
    "#-*-coding:utf-8-*-\n",
    "\"\"\"\n",
    "小明的成绩从去年的72分提升到了今年的85分，请计算小明成绩提升的百分点，并用字符串格式化显示出'xx.x%'，只保留小数点后1位：\n",
    "# -*- coding: utf-8 -*-\n",
    "s1 = 72\n",
    "s2 = 85\n",
    "\"\"\"\n",
    "\n",
    "score_past=72\n",
    "score_now=85\n",
    "percentage=(score_now-score_past)/score_past\n",
    "print(f'成绩提升了{percentage:.1f}%')\n",
    "\n",
    "\n",
    "\"\"\"\n",
    "请利用循环依次对list中的每个名字打印出Hello, xxx!：\n",
    "\"\"\"\n",
    "L = ['Bart', 'Lisa', 'Adam']\n",
    "for name in L:\n",
    "    print('Hello,%s!'%name)\n",
    "    \n",
    "for name in L:\n",
    "    print(f'hello,{name}!')"
   ]
  },
  {
   "cell_type": "code",
   "execution_count": 48,
   "metadata": {},
   "outputs": [
    {
     "name": "stdout",
     "output_type": "stream",
     "text": [
      "1\n",
      "3\n",
      "5\n",
      "7\n",
      "9\n",
      "11\n"
     ]
    }
   ],
   "source": [
    "n=0\n",
    "while n<=10:\n",
    "    n+=1\n",
    "    if n%2==0:\n",
    "        continue\n",
    "    print(n)"
   ]
  },
  {
   "cell_type": "code",
   "execution_count": 59,
   "metadata": {},
   "outputs": [
    {
     "name": "stdout",
     "output_type": "stream",
     "text": [
      "['Michael', 'Bob', 'Tracy', 'Alice']\n",
      "['Michael', 'Marry', 'Bob', 'Tracy', 'Alice']\n",
      "['Michael', 'Marry', 'Bob', 'Tracy']\n",
      "['Michael', 'Bob', 'Tracy']\n"
     ]
    }
   ],
   "source": [
    "classmates = ['Michael', 'Bob', 'Tracy']\n",
    "classmates.append(\"Alice\")\n",
    "print(classmates)\n",
    "classmates.insert(1,'Marry')\n",
    "print(classmates)\n",
    "classmates.pop()\n",
    "print(classmates)\n",
    "len(classmates)\n",
    "classmates.pop(1)\n",
    "print(classmates)"
   ]
  },
  {
   "cell_type": "code",
   "execution_count": 67,
   "metadata": {},
   "outputs": [
    {
     "name": "stdout",
     "output_type": "stream",
     "text": [
      "python\n",
      "28\n",
      "True\n",
      "25.3\n",
      "python\n",
      "Apple\n",
      "Python\n"
     ]
    }
   ],
   "source": [
    "tup = ('python',28,True,25.3)\n",
    "for i in tup:\n",
    "    print(i)\n",
    "print(tup[0])\n",
    "\"\"\"\n",
    "练习tuple 请用索引取出下面list的指定元素\n",
    "\"\"\"\n",
    "# -*- coding: utf-8 -*-\n",
    "L = [\n",
    "    ['Apple', 'Google', 'Microsoft'],\n",
    "    ['Java', 'Python', 'Ruby', 'PHP'],\n",
    "    ['Adam', 'Bart', 'Lisa']\n",
    "]\n",
    "print(L[0][0])\n",
    "print(L[1][1])"
   ]
  },
  {
   "cell_type": "code",
   "execution_count": 80,
   "metadata": {},
   "outputs": [
    {
     "name": "stdout",
     "output_type": "stream",
     "text": [
      "69\n",
      "{'Alice': 69, 'Bob': 56, 'Dior': 23, 'Marry': 89}\n",
      "{'Bob': 56, 'Dior': 23, 'Marry': 89}\n"
     ]
    }
   ],
   "source": [
    "dic={'Alice':69,'Bob':56,'Dior':23}\n",
    "print(dic['Alice'])\n",
    "dic['Marry']=89\n",
    "print(dic)\n",
    "dic.get('Thomas', -1)\n",
    "dic.pop('Alice')\n",
    "print(dic)\n",
    "\n",
    "\n"
   ]
  },
  {
   "cell_type": "code",
   "execution_count": 122,
   "metadata": {},
   "outputs": [
    {
     "name": "stdout",
     "output_type": "stream",
     "text": [
      "This is a function\n",
      "3\n",
      "The C is 6\n",
      "price: 128 color: red brand: BMW is_second_hand: True length: 89 height: 56\n",
      "10\n",
      "110\n",
      "100\n",
      "10\n"
     ]
    }
   ],
   "source": [
    "#定义函数\n",
    "def function():\n",
    "    print(\"This is a function\")\n",
    "    a=1+2\n",
    "    print(a)\n",
    "    \n",
    "#调用函数\n",
    "function()\n",
    "\n",
    "#函数 参数\n",
    "def fun(a,b):\n",
    "    c=a*b\n",
    "    print('The C is',c)\n",
    "fun(2,3)\n",
    "\n",
    "#默认函数参数\n",
    "def sale_car(price,color='red', brand='BMW',is_second_hand=True,length=89,height=56):\n",
    "    print('price:',price,\n",
    "          'color:',color,\n",
    "          'brand:',brand,\n",
    "          'is_second_hand:',is_second_hand,\n",
    "          'length:',length,\n",
    "          'height:',height)\n",
    "sale_car(128)\n",
    "\n",
    "#全局与局部变量，global&local\n",
    "APPLE=100\n",
    "d=N\n",
    "def func():\n",
    "    global d\n",
    "    d=10\n",
    "    print(d)\n",
    "    return d+100\n",
    "print(func())\n",
    "print(APPLE)\n",
    "print(d)\n",
    "\n",
    "\n",
    "\n",
    "    "
   ]
  },
  {
   "cell_type": "code",
   "execution_count": null,
   "metadata": {},
   "outputs": [],
   "source": []
  }
 ],
 "metadata": {
  "kernelspec": {
   "display_name": "Python 3",
   "language": "python",
   "name": "python3"
  },
  "language_info": {
   "codemirror_mode": {
    "name": "ipython",
    "version": 3
   },
   "file_extension": ".py",
   "mimetype": "text/x-python",
   "name": "python",
   "nbconvert_exporter": "python",
   "pygments_lexer": "ipython3",
   "version": "3.8.3"
  }
 },
 "nbformat": 4,
 "nbformat_minor": 4
}
